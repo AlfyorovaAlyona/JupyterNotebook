{
 "cells": [
  {
   "cell_type": "code",
   "execution_count": 5,
   "metadata": {
    "collapsed": false
   },
   "outputs": [
   ],
   "source": [
    "import math\n",
    "import scipy.integrate as integrate\n"
   ]
  },
  {
   "cell_type": "markdown",
   "metadata": {
    "collapsed": false
   },
   "source": [
    "# trapezoid formula: \n",
    "$$ I_n = h \\cdot \\left(\\frac{f(a) + f(b)}{2} + \\sum_{i=1}^{n-1} f(a + ih) \\right), h = \\frac{b - a}{n} $$"
   ]
  },
  {
   "cell_type": "markdown",
   "metadata": {
    "collapsed": false
   },
   "source": [
    "# Simpson's formula:\n",
    "$$ I_{Simps, n} = \\sum_{i=0}^{\\frac{n}{2} - 1} \\frac{h}{3} \\cdot (f(x_{2i}) + 4f(x_{2i+1}) + f(x_{2i+2})) $$\n",
    " Convert it into appropriate view:\n",
    "$$ \\frac{h}{3} (f_0 + f_1 + f_2) = \\frac{4h}{3} \\left(\\frac{f_0 + f_1}{2} + \\frac{f_1 + f_2}{2} \\right) - \\frac{1}{3} \\cdot 2h\\frac{f_0 + f_2}{2} = \n",
    "\\frac{4 I_{trap, 2} - I_{trap, 1}}{3}$$"
   ]
  },
  {
   "cell_type": "markdown",
   "metadata": {
    "collapsed": false
   },
   "source": [
    "# Runge's rule:\n",
    "$$ \\delta_{2n} = |I_{2n} - I_{n}| $$"
   ]
  },
  {
   "cell_type": "markdown",
   "metadata": {
    "collapsed": false
   },
   "source": [
    "# Romberg's method:\n",
    "Elements Of matrix: $$ I_{i, j} = I_{i, j - 1} - \\frac{I_{i, j-1} - I_{i-1, j-1}}{1 - 2^j} $$"
   ]
  },
  {
   "cell_type": "code",
   "execution_count": 3,
   "metadata": {
    "collapsed": false
   },
   "outputs": [
   ],
   "source": [
    "class Integration:\n",
    "    __sum = 0.0\n",
    "    __nseg = 1\n",
    "    __ncalls = 0 # считает число вызовов интегрируемой функции\n",
    "\n",
    "    def __restart(func, x0, x1, nseg0, reset_calls = True):\n",
    "        \"\"\"Возвращает интеграл методом трапеций на начальном разбиении\"\"\"\n",
    "        if reset_calls:\n",
    "            Integration.__ncalls = 0\n",
    "        Integration.__nseg = nseg0\n",
    "        # вычисление суммы для метода трапеций с начальным числом отрезков разбиения nseg0\n",
    "        Integration.__sum = 0.5 * (func(x0) + func(x1))\n",
    "        dx = 1.0 * (x1 - x0) / nseg0\n",
    "        for i in range(1, nseg0):\n",
    "            Integration.__sum += func(x0 + i * dx)\n",
    "\n",
    "        Integration.__ncalls += 1 + nseg0\n",
    "        return Integration.__sum * dx\n",
    "\n",
    "    def __double_nseg(func, x0, x1):\n",
    "        \"\"\"Вдвое измельчает разбиение.\n",
    "           Возвращает интеграл методом трапеций на новом разбиении\"\"\"\n",
    "        nseg = Integration.__nseg\n",
    "        dx = (x1 - x0) / nseg\n",
    "        x = x0 + 0.5 * dx\n",
    "        i = 0\n",
    "        AddedSum = 0.0\n",
    "        for i in range(nseg):\n",
    "            AddedSum += func(x + i * dx)\n",
    "\n",
    "        Integration.__sum += AddedSum\n",
    "        Integration.__nseg *= 2\n",
    "        Integration.__ncalls += nseg\n",
    "        return Integration.__sum * 0.5 * dx\n",
    "\n",
    "    def trapezoid(func, x0, x1, epsilon = 1e-10, nseg0 = 1):\n",
    "        \"\"\"Интегрирование методом трапеций с заданной точностью и с вычислением погрешности по правилу Рунге.\n",
    "           nseg0 - число отрезков начального разбиения\"\"\"\n",
    "        ans = Integration.__restart(func, x0, x1, nseg0)\n",
    "        old_ans = 0.0\n",
    "        err_est = max(1, abs(ans))\n",
    "        while (err_est > abs(epsilon * ans)):\n",
    "            old_ans = ans\n",
    "            ans = Integration.__double_nseg(func, x0, x1)\n",
    "            err_est = abs(old_ans - ans)\n",
    "\n",
    "        print(\"Total function calls: \" + str(Integration.__ncalls))\n",
    "        return ans\n",
    "\n",
    "    def simpson(func, x0, x1, epsilon = 1.0e-10, nseg0 = 1):\n",
    "        \"\"\"nseg0 - число отрезков начального разбиения\"\"\"\n",
    "        old_trapez_sum = Integration.__restart(func, x0, x1, nseg0)\n",
    "        new_trapez_sum = Integration.__double_nseg(func, x0, x1)\n",
    "        ans = (4 * new_trapez_sum - old_trapez_sum) / 3\n",
    "        old_ans = 0.0\n",
    "        err_est = max(1, abs(ans))\n",
    "        while (err_est > abs(epsilon * ans)):\n",
    "            old_ans = ans\n",
    "            old_trapez_sum = new_trapez_sum\n",
    "            new_trapez_sum = Integration.__double_nseg(func, x0, x1)\n",
    "            ans = (4 * new_trapez_sum - old_trapez_sum) / 3\n",
    "            err_est = abs(old_ans - ans)\n",
    "\n",
    "        print(\"Total function calls: \" + str(Integration.__ncalls))\n",
    "        return ans\n",
    "    def romberg(func, x0, x1, epsilon = 1e-10, nseg0 = 1, maxcol = 5, reset_calls = True):\n",
    "        \"\"\"Интегрирование методом Ромберга\n",
    "           nseg0 - начальное число отрезков разбиения\n",
    "           maxcol - максимальный столбец таблицы\"\"\"\n",
    "        # инициализация таблицы\n",
    "        Itable = [[Integration.__restart(func, x0, x1, nseg0, reset_calls)]]\n",
    "        i = 0\n",
    "        maxcol = max(0, maxcol)\n",
    "        ans = Itable[i][i]\n",
    "        error_est = max(1, abs(ans))\n",
    "        while (error_est > abs(epsilon * ans)):\n",
    "            old_ans = ans\n",
    "            i += 1\n",
    "            d = 4.0\n",
    "            ans_col = min(i, maxcol)\n",
    "            Itable.append([Integration.__double_nseg(func, x0, x1)] * (ans_col + 1))\n",
    "            for j in range(0, ans_col):\n",
    "                diff = Itable[i][j] - Itable[i - 1][j]\n",
    "                Itable[i][j + 1] = Itable[i][j] + diff / (d - 1.0)\n",
    "                d *= 4.0\n",
    "\n",
    "            ans = Itable[i][ans_col]\n",
    "            if (maxcol <= 1):\n",
    "                error_est = abs(ans - Itable[i - 1][-1])\n",
    "            elif (i > maxcol):\n",
    "                error_est = abs(ans - Itable[i][min(i - maxcol - 1, maxcol - 1)])\n",
    "            else:\n",
    "                error_est = abs(ans - Itable[i - 1][i - 1])\n",
    "\n",
    "        print(\"Total function calls: \" + str(Integration.__ncalls))\n",
    "        return ans"
   ]
  },
  {
   "cell_type": "markdown",
   "metadata": {
    "collapsed": false
   },
   "source": [
    "# Trapezoid integration method applied to:\n",
    "$ f(x) = \\frac{\\sin (100x)}{x+1} $"
   ]
  },
  {
   "cell_type": "code",
   "execution_count": 6,
   "metadata": {
    "collapsed": false
   },
   "outputs": [
    {
     "name": "stdout",
     "output_type": "stream",
     "text": [
      "Total function calls: 65537\n"
     ]
    },
    {
     "data": {
      "text/plain": [
       "0.0056992796883593095"
      ]
     },
     "execution_count": 6,
     "metadata": {
     },
     "output_type": "execute_result"
    }
   ],
   "source": [
    ">>> Integration.trapezoid(lambda x: math.sin(100*x) / (x + 1), 0, 1, epsilon=1e-6)"
   ]
  },
  {
   "cell_type": "markdown",
   "metadata": {
    "collapsed": false
   },
   "source": [
    "# Simpson's integration method to:\n",
    "$$ f(x) = \\frac{\\sin (100x)}{x+1} $$"
   ]
  },
  {
   "cell_type": "code",
   "execution_count": 8,
   "metadata": {
    "collapsed": false
   },
   "outputs": [
    {
     "name": "stdout",
     "output_type": "stream",
     "text": [
      "Total function calls: 2049\n"
     ]
    },
    {
     "data": {
      "text/plain": [
       "0.005699280967919138"
      ]
     },
     "execution_count": 8,
     "metadata": {
     },
     "output_type": "execute_result"
    }
   ],
   "source": [
    ">>> Integration.simpson(lambda x: math.sin(100*x) / (x + 1), 0, 1, epsilon=1e-6)"
   ]
  },
  {
   "cell_type": "markdown",
   "metadata": {
    "collapsed": false
   },
   "source": [
    "# Romberg's integration method (using SciPy library):\n",
    "$$ f(x) = \\frac{\\sin (100x)}{x+1} $$"
   ]
  },
  {
   "cell_type": "code",
   "execution_count": 7,
   "metadata": {
    "collapsed": false
   },
   "outputs": [
    {
     "name": "stdout",
     "output_type": "stream",
     "text": [
      "0.005699280789554992\n"
     ]
    }
   ],
   "source": [
    "print(integrate.romberg(lambda x: math.sin(100*x) / (x + 1), 0, 1))"
   ]
  },
  {
   "cell_type": "code",
   "execution_count": 0,
   "metadata": {
    "collapsed": false
   },
   "outputs": [
   ],
   "source": [
   ]
  },
  {
   "cell_type": "markdown",
   "metadata": {
    "collapsed": false
   },
   "source": [
   ]
  },
  {
   "cell_type": "markdown",
   "metadata": {
    "collapsed": false
   },
   "source": [
    "# Richardson extrapolation + trapezoid integration:\n",
    "$$ f(x) = \\frac{\\sin (100x)}{x+1} $$"
   ]
  },
  {
   "cell_type": "code",
   "execution_count": 7,
   "metadata": {
    "collapsed": false
   },
   "outputs": [
    {
     "name": "stdout",
     "output_type": "stream",
     "text": [
      "Total function calls: 1025\n"
     ]
    },
    {
     "data": {
      "text/plain": [
       "0.0056992807792545916"
      ]
     },
     "execution_count": 7,
     "metadata": {
     },
     "output_type": "execute_result"
    }
   ],
   "source": [
    ">>> Integration.romberg(lambda x: math.sin(100*x) / (x + 1), 0, 1, epsilon=1e-6, maxcol = 2)"
   ]
  },
  {
   "cell_type": "code",
   "execution_count": 0,
   "metadata": {
    "collapsed": false
   },
   "outputs": [
   ],
   "source": [
   ]
  },
  {
   "cell_type": "code",
   "execution_count": 0,
   "metadata": {
    "collapsed": false
   },
   "outputs": [
   ],
   "source": [
   ]
  },
  {
   "cell_type": "code",
   "execution_count": 0,
   "metadata": {
    "collapsed": false
   },
   "outputs": [
   ],
   "source": [
   ]
  }
 ],
 "metadata": {
  "kernelspec": {
   "display_name": "Python 3 (Anaconda 2019)",
   "env": {
    "LD_LIBRARY_PATH": "/ext/anaconda-2019.03/lib",
    "PROJ_LIB": "/ext/anaconda-2019.03/share/proj",
    "PYTHONHOME": "/ext/anaconda-2019.03/lib/python3.7",
    "PYTHONPATH": "/ext/anaconda-2019.03/lib/python3.7:/ext/anaconda-2019.03/lib/python3.7/site-packages"
   },
   "language": "python",
   "metadata": {
    "cocalc": {
     "description": "Python/R distribution for data science",
     "priority": 5,
     "url": "https://www.anaconda.com/distribution/"
    }
   },
   "name": "anaconda2019"
  },
  "language_info": {
   "codemirror_mode": {
    "name": "ipython",
    "version": 3
   },
   "file_extension": ".py",
   "mimetype": "text/x-python",
   "name": "python",
   "nbconvert_exporter": "python",
   "pygments_lexer": "ipython3",
   "version": "3.7.3"
  }
 },
 "nbformat": 4,
 "nbformat_minor": 0
}